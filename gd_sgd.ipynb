{
 "cells": [
  {
   "cell_type": "code",
   "execution_count": 1,
   "id": "6d9c613a-f5db-4a72-98bc-6841b627f12c",
   "metadata": {},
   "outputs": [],
   "source": [
    "\n",
    "import numpy as np\n",
    "from matplotlib import pyplot as plt\n",
    "%matplotlib inline"
   ]
  },
  {
   "cell_type": "code",
   "execution_count": 2,
   "id": "1e7f28ec-11db-4343-8cea-00bff3ac1a1f",
   "metadata": {},
   "outputs": [],
   "source": [
    "x = np.array([80, 10, 20, 60, 70, 95,90,120 ])\n",
    "y = np.array([150, 20, 90, 130, 170, 220, 110, 260])"
   ]
  },
  {
   "cell_type": "code",
   "execution_count": 3,
   "id": "d4ff1ef3-8c79-4cf8-92e5-727dacaeedcc",
   "metadata": {},
   "outputs": [
    {
     "data": {
      "text/plain": [
       "8"
      ]
     },
     "execution_count": 3,
     "metadata": {},
     "output_type": "execute_result"
    }
   ],
   "source": [
    "x.shape[0]"
   ]
  },
  {
   "cell_type": "code",
   "execution_count": 4,
   "id": "7586b2bc-9e4f-41fb-8e90-4d7ceed6820a",
   "metadata": {},
   "outputs": [
    {
     "data": {
      "text/plain": [
       "array([ 80,  10,  20,  60,  70,  95,  90, 120])"
      ]
     },
     "execution_count": 4,
     "metadata": {},
     "output_type": "execute_result"
    }
   ],
   "source": [
    "x"
   ]
  },
  {
   "cell_type": "code",
   "execution_count": 5,
   "id": "712c3f58-1f8c-47f9-9db9-e152a0f01361",
   "metadata": {},
   "outputs": [],
   "source": [
    "w = 1"
   ]
  },
  {
   "cell_type": "code",
   "execution_count": 6,
   "id": "7fe73dd0-c180-4332-ab40-bf184b86f4dc",
   "metadata": {},
   "outputs": [
    {
     "data": {
      "text/plain": [
       "(array([1.65634396]), 0.008393089792113942, 2320.0854085438486)"
      ]
     },
     "execution_count": 6,
     "metadata": {},
     "output_type": "execute_result"
    }
   ],
   "source": [
    "def batch_gradient_descent(X, y_true, epochs, learning_rate = 0.001):\n",
    "\n",
    "    number_of_features = 1\n",
    "    \n",
    "    w = np.ones(shape=(number_of_features))\n",
    "    b=0\n",
    "    total_samples = X.shape[0]\n",
    "    \n",
    "    cost_list = []\n",
    "    epoch_list = []\n",
    "    \n",
    "    for i in range(epochs):\n",
    "        y_predicted = w*x + b\n",
    "        \n",
    "        w_grad = (2/total_samples)*np.sum(x.T.dot(y_predicted-y_true))\n",
    "        b_grad = (2/total_samples)*np.sum(y_predicted-y_true)\n",
    "        \n",
    "        w = w - learning_rate * w_grad\n",
    "        b = b - learning_rate * b_grad\n",
    "        \n",
    "        cost =np.mean(np.square(y_true-y_predicted))\n",
    "        \n",
    "        if i%10==0:\n",
    "            cost_list.append(cost)\n",
    "            epoch_list.append(i)\n",
    "            \n",
    "            \n",
    "    return w, b, cost, cost_list, epoch_list\n",
    "\n",
    "w, b, cost, cost_list, epoch_list = batch_gradient_descent(x,y,x.shape[0],0.00001)\n",
    "w, b, cost"
   ]
  },
  {
   "cell_type": "code",
   "execution_count": 7,
   "id": "b4086c1f-97ac-4cc7-a112-45cbfb2afb15",
   "metadata": {},
   "outputs": [
    {
     "data": {
      "text/plain": [
       "array([1.65634396])"
      ]
     },
     "execution_count": 7,
     "metadata": {},
     "output_type": "execute_result"
    }
   ],
   "source": [
    "w"
   ]
  },
  {
   "cell_type": "code",
   "execution_count": 8,
   "id": "6377bdef-fcee-4b60-bd48-f44c1a4a42de",
   "metadata": {},
   "outputs": [
    {
     "data": {
      "text/plain": [
       "6"
      ]
     },
     "execution_count": 8,
     "metadata": {},
     "output_type": "execute_result"
    }
   ],
   "source": [
    "import random\n",
    "random.randint(0,6)\n"
   ]
  },
  {
   "cell_type": "code",
   "execution_count": 9,
   "id": "1f20e0de-c343-4660-819f-52d06052dd9d",
   "metadata": {},
   "outputs": [
    {
     "data": {
      "text/plain": [
       "(array([1.65634396]), 0.008393089792113942, 2320.0854085438486)"
      ]
     },
     "execution_count": 9,
     "metadata": {},
     "output_type": "execute_result"
    }
   ],
   "source": [
    "def stochastic_gradient_descent(x, y_true, epochs, learning_rate = 0.01):\n",
    "    number_of_features = 1\n",
    "    w = np.ones(shape=(number_of_features))\n",
    "    b=0\n",
    "    total_samples = x.shape[0]\n",
    "    \n",
    "    cost_list = []\n",
    "    epoch_list = []\n",
    "    \n",
    "    for i in range(epochs):\n",
    "        random_index = random.randint(0,total_samples-1)\n",
    "        sample_x = x[random_index]\n",
    "        sample_y = y_true[random_index]\n",
    "        \n",
    "        y_predicted = w*x + b\n",
    "    \n",
    "        w_grad = (2/total_samples)*np.sum(x.T.dot(y_predicted-y_true))\n",
    "        b_grad = (2/total_samples)*np.sum(y_predicted-y_true)\n",
    "                                     \n",
    "    \n",
    "        w = w - learning_rate * w_grad\n",
    "        b = b - learning_rate * b_grad\n",
    "                                     \n",
    "        cost = np.square(sample_y-y_predicted)\n",
    "        \n",
    "        if i%100==0: \n",
    "           cost_list.append(cost)\n",
    "           epoch_list.append(i)\n",
    "    return w, b, cost, cost_list, epoch_list\n",
    "                                     \n",
    "w_sgd, b_sgd, cost_sgd, cost_list_sgd, epoch_list_sgd = stochastic_gradient_descent(x,y,x.shape[0],1000)\n",
    "w_sgd, b_sgd, cost_sgd        \n",
    "\n",
    "w, b, cost"
   ]
  },
  {
   "cell_type": "raw",
   "id": "3af5b125-b638-4715-be36-d6083eefeeee",
   "metadata": {},
   "source": []
  }
 ],
 "metadata": {
  "kernelspec": {
   "display_name": "Python 3",
   "language": "python",
   "name": "python3"
  },
  "language_info": {
   "codemirror_mode": {
    "name": "ipython",
    "version": 3
   },
   "file_extension": ".py",
   "mimetype": "text/x-python",
   "name": "python",
   "nbconvert_exporter": "python",
   "pygments_lexer": "ipython3",
   "version": "3.8.8"
  }
 },
 "nbformat": 4,
 "nbformat_minor": 5
}
