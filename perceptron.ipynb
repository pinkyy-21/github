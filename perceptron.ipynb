{
 "cells": [
  {
   "cell_type": "code",
   "execution_count": 1,
   "id": "3017a706-4833-41dd-b1c4-02830a5a9fcc",
   "metadata": {},
   "outputs": [],
   "source": [
    "import numpy as np\n",
    "import pandas as pd\n",
    "from sklearn.model_selection import train_test_split\n"
   ]
  },
  {
   "cell_type": "code",
   "execution_count": 2,
   "id": "de9b7b5f-4dd8-4f9e-813c-cf15aa096fe6",
   "metadata": {},
   "outputs": [],
   "source": [
    "data = pd.read_csv('Crane_Controller.csv')"
   ]
  },
  {
   "cell_type": "code",
   "execution_count": 3,
   "id": "1d7e953c-26f8-4b63-a8b0-d38481387833",
   "metadata": {},
   "outputs": [],
   "source": [
    "x = data.iloc[:,0:-1].values\n",
    "y=data.iloc[:, -1].values"
   ]
  },
  {
   "cell_type": "code",
   "execution_count": 4,
   "id": "2658f0fa-457b-422f-a0b0-782d0a35333c",
   "metadata": {},
   "outputs": [
    {
     "data": {
      "text/plain": [
       "array([[ 1, -5],\n",
       "       [ 2,  5],\n",
       "       [ 3, -2],\n",
       "       [ 1,  2],\n",
       "       [ 2,  0],\n",
       "       [ 6, -5],\n",
       "       [ 7,  5],\n",
       "       [ 6, -2],\n",
       "       [ 7,  2],\n",
       "       [ 6,  0],\n",
       "       [ 8, -5],\n",
       "       [ 9,  5],\n",
       "       [10, -2],\n",
       "       [ 8,  2],\n",
       "       [ 9,  0]], dtype=int64)"
      ]
     },
     "execution_count": 4,
     "metadata": {},
     "output_type": "execute_result"
    }
   ],
   "source": [
    "x"
   ]
  },
  {
   "cell_type": "code",
   "execution_count": 5,
   "id": "98018050-0bd4-4d09-b5fc-3e7f16dab01f",
   "metadata": {},
   "outputs": [
    {
     "data": {
      "text/plain": [
       "array([3, 3, 5, 5, 3, 5, 5, 3, 3, 5, 5, 5, 3, 3, 5], dtype=int64)"
      ]
     },
     "execution_count": 5,
     "metadata": {},
     "output_type": "execute_result"
    }
   ],
   "source": [
    "y"
   ]
  },
  {
   "cell_type": "code",
   "execution_count": 6,
   "id": "772785c9-6ef4-40db-97b8-f17a96b86fd9",
   "metadata": {},
   "outputs": [],
   "source": [
    "x_train, x_test, y_train, y_test = train_test_split(x,y,test_size=0.4,random_state=0)"
   ]
  },
  {
   "cell_type": "code",
   "execution_count": 7,
   "id": "2cde6392-2caa-4460-bf6c-0ef8dc6a0908",
   "metadata": {},
   "outputs": [],
   "source": [
    "class Perceptron:\n",
    "    \n",
    "    \n",
    "    \n",
    "    def _int_(self, iterations=1000):\n",
    "        \n",
    "        self.epochs=iterations\n",
    "        self.weights= None\n",
    "        self.bias=None\n",
    "        \n",
    "    def fit(self,x,y):\n",
    "        \n",
    "        self.weights = np.zeros(x.shape[1])\n",
    "        self.bias = 0\n",
    "        \n",
    "        for epoch in range(0,1000):\n",
    "            \n",
    "            for i in range(x.shape[0]):\n",
    "            \n",
    "                a=np.dot(self.weights,x[i]) + self.bias\n",
    "            \n",
    "            if (y[i]*a)<= 0:\n",
    "    \n",
    "                self.weights= self.weights+x[i]\n",
    "                self.bias=self.bias+y[i]\n",
    "            \n",
    "            \n",
    "        print(\"training complete\")    \n",
    "        print(self.weights)\n",
    "        print(self.bias)\n",
    "        \n",
    "    def predict(self,x):\n",
    "    \n",
    "         y_pred=[]\n",
    "    \n",
    "         for i in range(x.shape[0]):\n",
    "        \n",
    "          y_pred.append(np.dot(self.weights,x[i])+self.bias)\n",
    "        \n",
    "         return np.array(y_pred)\n",
    "        \n",
    "        \n",
    "        \n",
    "            \n",
    "    \n",
    "            "
   ]
  },
  {
   "cell_type": "code",
   "execution_count": 8,
   "id": "6b639311-6849-482e-896b-c9f0d1ee9ac0",
   "metadata": {},
   "outputs": [
    {
     "name": "stdout",
     "output_type": "stream",
     "text": [
      "(9, 2)\n",
      "(9,)\n"
     ]
    }
   ],
   "source": [
    "print(x_train.shape)\n",
    "print(y_train.shape)"
   ]
  },
  {
   "cell_type": "code",
   "execution_count": 9,
   "id": "d04e87b8-c47f-493b-aae5-07c065724724",
   "metadata": {},
   "outputs": [],
   "source": [
    "perc = Perceptron()"
   ]
  },
  {
   "cell_type": "code",
   "execution_count": 10,
   "id": "c07f7097-0b8c-43fa-8454-3bf929f68a0f",
   "metadata": {},
   "outputs": [
    {
     "name": "stdout",
     "output_type": "stream",
     "text": [
      "training complete\n",
      "[10. -2.]\n",
      "3\n"
     ]
    }
   ],
   "source": [
    "perc.fit(x_train,y_train)"
   ]
  },
  {
   "cell_type": "code",
   "execution_count": 11,
   "id": "8c6bb737-886f-480d-b77d-7313976e561c",
   "metadata": {},
   "outputs": [],
   "source": [
    "y_pred = perc.predict(x_test)\n"
   ]
  },
  {
   "cell_type": "code",
   "execution_count": 12,
   "id": "08c2ad87-412e-4dec-9d79-cb6b4cd251b2",
   "metadata": {},
   "outputs": [],
   "source": [
    "tp = sum((y_test>=0) &(y_pred>=0))\n",
    "tn =sum((y_test>=0)&(y_pred<=0))\n",
    "fn =sum((y_test<=0)&(y_pred>=0))\n",
    "fp =sum((y_test<=0)&(y_pred<=0))"
   ]
  },
  {
   "cell_type": "code",
   "execution_count": 13,
   "id": "1b6c7087-d518-4b00-b686-d6e63af42ae2",
   "metadata": {},
   "outputs": [
    {
     "data": {
      "text/plain": [
       "1.0"
      ]
     },
     "execution_count": 13,
     "metadata": {},
     "output_type": "execute_result"
    }
   ],
   "source": [
    "accuracy = (tp+tn)/float(tp+tn+fp+fn)\n",
    "accuracy"
   ]
  },
  {
   "cell_type": "code",
   "execution_count": 14,
   "id": "5b14892c-d4e7-4cd7-abdb-1f70047bcd77",
   "metadata": {},
   "outputs": [
    {
     "data": {
      "text/plain": [
       "6"
      ]
     },
     "execution_count": 14,
     "metadata": {},
     "output_type": "execute_result"
    }
   ],
   "source": [
    "tp"
   ]
  },
  {
   "cell_type": "code",
   "execution_count": 15,
   "id": "7bd85701-bef7-4228-ba43-3e8e003b9509",
   "metadata": {},
   "outputs": [
    {
     "data": {
      "text/plain": [
       "0"
      ]
     },
     "execution_count": 15,
     "metadata": {},
     "output_type": "execute_result"
    }
   ],
   "source": [
    "tn"
   ]
  },
  {
   "cell_type": "code",
   "execution_count": 16,
   "id": "4e3c8d0d-6557-4211-b30e-6df06c9b45e8",
   "metadata": {},
   "outputs": [
    {
     "data": {
      "text/plain": [
       "0"
      ]
     },
     "execution_count": 16,
     "metadata": {},
     "output_type": "execute_result"
    }
   ],
   "source": [
    "fn"
   ]
  },
  {
   "cell_type": "code",
   "execution_count": 17,
   "id": "b1364044-c5c0-4a4c-9c4a-6b184a068b96",
   "metadata": {},
   "outputs": [
    {
     "data": {
      "text/plain": [
       "0"
      ]
     },
     "execution_count": 17,
     "metadata": {},
     "output_type": "execute_result"
    }
   ],
   "source": [
    "fp"
   ]
  },
  {
   "cell_type": "code",
   "execution_count": null,
   "id": "4b6d248c-3393-4d8a-8e16-21b4b37d2da5",
   "metadata": {},
   "outputs": [],
   "source": []
  }
 ],
 "metadata": {
  "kernelspec": {
   "display_name": "Python 3",
   "language": "python",
   "name": "python3"
  },
  "language_info": {
   "codemirror_mode": {
    "name": "ipython",
    "version": 3
   },
   "file_extension": ".py",
   "mimetype": "text/x-python",
   "name": "python",
   "nbconvert_exporter": "python",
   "pygments_lexer": "ipython3",
   "version": "3.8.8"
  }
 },
 "nbformat": 4,
 "nbformat_minor": 5
}
